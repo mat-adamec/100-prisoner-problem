{
 "cells": [
  {
   "cell_type": "markdown",
   "metadata": {},
   "source": [
    "# The Hundred Prisoner Problem\n",
    "## Problem Statement\n",
    "The hundred prisoner problem is a mathematical problem that seeks the optimal solution to the following riddle: 100 prisoners are indexed by numbers which are placed it to 100 envelopes, not necessarily (and indeed, not typically!) in the same order. Each prisoner independently goes in and selects 50 envelopes. If all prisoners find their own number, then all prisoners are freed.\n",
    "\n",
    "## Solutions\n",
    "### Random Selection\n",
    "The naive solution to this problem would involve random choice on the part of each prisoner. But this has an exceptionally low probability of success. Since each prisoner has a 50% chance of success, we would expect the probability that all succeed is (0.5)^100. Virtually no chance at freedom!\n",
    "\n",
    "### The Loop Method\n",
    "A better solution exists by reframing the problem in terms of closed loops. Consider this: each prisoner chooses the envelope corresponding to their index, then the envelope corresponding to the index in the previous envelope. The last envelope they choose, if successful, would lead them back to the envelope they first chose (if the process didn't terminate). Thus this is a problem of finding closed loops! Furthermore, the probability of success is the  probability that there is no loop greater in size than 50. Since longer loops are rarer in a random system, this is far more likely to succeed than the random method. \n",
    "\n",
    "A corollary is that if prisoners are allowed to swap two envelopes, they can always succeed, as they can divide a loop of size 100 in the worst case into two loops of size 50!\n",
    "\n",
    "It has been shown that the probability of success with the loop method asymptotically approaches 30% as the number of prisoners increases, and that it is the optimal solution for the problem.\n",
    "\n",
    "## The Experiment!\n",
    "When I heard of this problem, I immediately became interested in the base cases. The loop method is indeed optimal as the number of prisoners gets larger, but is there ever a time it *isn't* optimal at small values? And how does the probability change at small values?\n",
    "\n",
    "For example, for 2 prisoners, we'd expect about a 25% chance of success with the random selection, as each prisoner has a 50% chance of success (0.5 * 0.5 = 0.25). For the loop selection, we'd actually expect a 50% chance of success overall. A single selection is equivalent to the random chance selection at 2 prisoners, but the truth value of it guarantees the truth value of the other selection, since the prisoners must have different numbers (so they are either both right or both wrong).\n",
    "\n",
    "What about with 4? Furthermore, what if we extend this to odd numbers? We'd have to figure out whether to raise or lower the number of attempts, since odd numbers are not divisible by 2, but how would this impact the probability of success? Would it be a significant change?\n",
    "\n",
    "That's where I started. Along the way, I ended up with even more questions which we'll tackle later here. For now, let's simulate the basic prisoner problem.\n",
    "\n",
    "## I. The Basic Hundred-Prisoner Problem"
   ]
  },
  {
   "cell_type": "code",
   "execution_count": 1,
   "metadata": {},
   "outputs": [],
   "source": [
    "from runner import Simulation\n",
    "from algorithms import RandomSelect, LoopSelect"
   ]
  },
  {
   "cell_type": "code",
   "execution_count": 2,
   "metadata": {},
   "outputs": [],
   "source": [
    "config = {'nPrisoners': 100,\n",
    "              'nTrials': 10000,\n",
    "              'algorithms': (RandomSelect, LoopSelect),\n",
    "              'schema': 'default',\n",
    "              'lower': True,\n",
    "              'chunks': 10,\n",
    "              'nEnvelopes': 100,\n",
    "              }"
   ]
  },
  {
   "cell_type": "code",
   "execution_count": 3,
   "metadata": {},
   "outputs": [],
   "source": [
    "sim = Simulation(config)"
   ]
  },
  {
   "cell_type": "code",
   "execution_count": 4,
   "metadata": {},
   "outputs": [
    {
     "name": "stdout",
     "output_type": "stream",
     "text": [
      "Progress: Currently on trial 1000. This chunk took 18.331271409988403 seconds to complete. Estimating 164.98140835762024 more seconds.\n",
      "Progress: Currently on trial 2000. This chunk took 19.429975748062134 seconds to complete. Estimating 151.04480743408203 more seconds.\n",
      "Progress: Currently on trial 3000. This chunk took 20.977933645248413 seconds to complete. Estimating 139.50475919246674 more seconds.\n",
      "Progress: Currently on trial 4000. This chunk took 22.33263611793518 seconds to complete. Estimating 126.7855657339096 more seconds.\n",
      "Progress: Currently on trial 5000. This chunk took 23.415758848190308 seconds to complete. Estimating 111.36664465069771 more seconds.\n",
      "Progress: Currently on trial 6000. This chunk took 24.735366582870483 seconds to complete. Estimating 94.01733237504959 more seconds.\n",
      "Progress: Currently on trial 7000. This chunk took 25.91818881034851 seconds to complete. Estimating 74.13373636454344 more seconds.\n",
      "Progress: Currently on trial 8000. This chunk took 27.176493406295776 seconds to complete. Estimating 51.88769523054361 more seconds.\n",
      "Progress: Currently on trial 9000. This chunk took 28.94205617904663 seconds to complete. Estimating 27.442935088649392 more seconds.\n",
      "Concluded: Finished trial 9999 and stored in .results! Took a total of 241.01958966255188\n"
     ]
    }
   ],
   "source": [
    "sim.simulate()"
   ]
  },
  {
   "cell_type": "code",
   "execution_count": 5,
   "metadata": {},
   "outputs": [
    {
     "data": {
      "text/html": [
       "<div>\n",
       "<style scoped>\n",
       "    .dataframe tbody tr th:only-of-type {\n",
       "        vertical-align: middle;\n",
       "    }\n",
       "\n",
       "    .dataframe tbody tr th {\n",
       "        vertical-align: top;\n",
       "    }\n",
       "\n",
       "    .dataframe thead th {\n",
       "        text-align: right;\n",
       "    }\n",
       "</style>\n",
       "<table border=\"1\" class=\"dataframe\">\n",
       "  <thead>\n",
       "    <tr style=\"text-align: right;\">\n",
       "      <th></th>\n",
       "      <th>Trial 0</th>\n",
       "      <th>Trial 1</th>\n",
       "      <th>Trial 2</th>\n",
       "      <th>Trial 3</th>\n",
       "      <th>Trial 4</th>\n",
       "      <th>Trial 5</th>\n",
       "      <th>Trial 6</th>\n",
       "      <th>Trial 7</th>\n",
       "      <th>Trial 8</th>\n",
       "      <th>Trial 9</th>\n",
       "      <th>...</th>\n",
       "      <th>Trial 9990</th>\n",
       "      <th>Trial 9991</th>\n",
       "      <th>Trial 9992</th>\n",
       "      <th>Trial 9993</th>\n",
       "      <th>Trial 9994</th>\n",
       "      <th>Trial 9995</th>\n",
       "      <th>Trial 9996</th>\n",
       "      <th>Trial 9997</th>\n",
       "      <th>Trial 9998</th>\n",
       "      <th>Trial 9999</th>\n",
       "    </tr>\n",
       "  </thead>\n",
       "  <tbody>\n",
       "    <tr>\n",
       "      <th>0</th>\n",
       "      <td>False</td>\n",
       "      <td>False</td>\n",
       "      <td>True</td>\n",
       "      <td>False</td>\n",
       "      <td>True</td>\n",
       "      <td>False</td>\n",
       "      <td>True</td>\n",
       "      <td>True</td>\n",
       "      <td>False</td>\n",
       "      <td>True</td>\n",
       "      <td>...</td>\n",
       "      <td>False</td>\n",
       "      <td>True</td>\n",
       "      <td>True</td>\n",
       "      <td>True</td>\n",
       "      <td>False</td>\n",
       "      <td>True</td>\n",
       "      <td>True</td>\n",
       "      <td>True</td>\n",
       "      <td>True</td>\n",
       "      <td>False</td>\n",
       "    </tr>\n",
       "    <tr>\n",
       "      <th>1</th>\n",
       "      <td>False</td>\n",
       "      <td>True</td>\n",
       "      <td>True</td>\n",
       "      <td>False</td>\n",
       "      <td>True</td>\n",
       "      <td>False</td>\n",
       "      <td>True</td>\n",
       "      <td>True</td>\n",
       "      <td>False</td>\n",
       "      <td>True</td>\n",
       "      <td>...</td>\n",
       "      <td>False</td>\n",
       "      <td>True</td>\n",
       "      <td>False</td>\n",
       "      <td>True</td>\n",
       "      <td>True</td>\n",
       "      <td>False</td>\n",
       "      <td>False</td>\n",
       "      <td>True</td>\n",
       "      <td>True</td>\n",
       "      <td>True</td>\n",
       "    </tr>\n",
       "    <tr>\n",
       "      <th>2</th>\n",
       "      <td>False</td>\n",
       "      <td>False</td>\n",
       "      <td>True</td>\n",
       "      <td>False</td>\n",
       "      <td>True</td>\n",
       "      <td>False</td>\n",
       "      <td>True</td>\n",
       "      <td>True</td>\n",
       "      <td>False</td>\n",
       "      <td>True</td>\n",
       "      <td>...</td>\n",
       "      <td>False</td>\n",
       "      <td>True</td>\n",
       "      <td>False</td>\n",
       "      <td>True</td>\n",
       "      <td>False</td>\n",
       "      <td>True</td>\n",
       "      <td>False</td>\n",
       "      <td>True</td>\n",
       "      <td>True</td>\n",
       "      <td>True</td>\n",
       "    </tr>\n",
       "    <tr>\n",
       "      <th>3</th>\n",
       "      <td>False</td>\n",
       "      <td>True</td>\n",
       "      <td>True</td>\n",
       "      <td>True</td>\n",
       "      <td>True</td>\n",
       "      <td>False</td>\n",
       "      <td>True</td>\n",
       "      <td>True</td>\n",
       "      <td>False</td>\n",
       "      <td>True</td>\n",
       "      <td>...</td>\n",
       "      <td>False</td>\n",
       "      <td>True</td>\n",
       "      <td>False</td>\n",
       "      <td>False</td>\n",
       "      <td>False</td>\n",
       "      <td>False</td>\n",
       "      <td>True</td>\n",
       "      <td>True</td>\n",
       "      <td>True</td>\n",
       "      <td>False</td>\n",
       "    </tr>\n",
       "    <tr>\n",
       "      <th>4</th>\n",
       "      <td>False</td>\n",
       "      <td>False</td>\n",
       "      <td>True</td>\n",
       "      <td>False</td>\n",
       "      <td>True</td>\n",
       "      <td>True</td>\n",
       "      <td>True</td>\n",
       "      <td>True</td>\n",
       "      <td>False</td>\n",
       "      <td>True</td>\n",
       "      <td>...</td>\n",
       "      <td>False</td>\n",
       "      <td>True</td>\n",
       "      <td>True</td>\n",
       "      <td>True</td>\n",
       "      <td>False</td>\n",
       "      <td>False</td>\n",
       "      <td>False</td>\n",
       "      <td>True</td>\n",
       "      <td>True</td>\n",
       "      <td>True</td>\n",
       "    </tr>\n",
       "    <tr>\n",
       "      <th>...</th>\n",
       "      <td>...</td>\n",
       "      <td>...</td>\n",
       "      <td>...</td>\n",
       "      <td>...</td>\n",
       "      <td>...</td>\n",
       "      <td>...</td>\n",
       "      <td>...</td>\n",
       "      <td>...</td>\n",
       "      <td>...</td>\n",
       "      <td>...</td>\n",
       "      <td>...</td>\n",
       "      <td>...</td>\n",
       "      <td>...</td>\n",
       "      <td>...</td>\n",
       "      <td>...</td>\n",
       "      <td>...</td>\n",
       "      <td>...</td>\n",
       "      <td>...</td>\n",
       "      <td>...</td>\n",
       "      <td>...</td>\n",
       "      <td>...</td>\n",
       "    </tr>\n",
       "    <tr>\n",
       "      <th>95</th>\n",
       "      <td>False</td>\n",
       "      <td>True</td>\n",
       "      <td>True</td>\n",
       "      <td>False</td>\n",
       "      <td>True</td>\n",
       "      <td>False</td>\n",
       "      <td>True</td>\n",
       "      <td>True</td>\n",
       "      <td>False</td>\n",
       "      <td>True</td>\n",
       "      <td>...</td>\n",
       "      <td>False</td>\n",
       "      <td>True</td>\n",
       "      <td>True</td>\n",
       "      <td>False</td>\n",
       "      <td>False</td>\n",
       "      <td>False</td>\n",
       "      <td>True</td>\n",
       "      <td>True</td>\n",
       "      <td>True</td>\n",
       "      <td>False</td>\n",
       "    </tr>\n",
       "    <tr>\n",
       "      <th>96</th>\n",
       "      <td>False</td>\n",
       "      <td>False</td>\n",
       "      <td>True</td>\n",
       "      <td>False</td>\n",
       "      <td>True</td>\n",
       "      <td>True</td>\n",
       "      <td>True</td>\n",
       "      <td>True</td>\n",
       "      <td>False</td>\n",
       "      <td>True</td>\n",
       "      <td>...</td>\n",
       "      <td>False</td>\n",
       "      <td>True</td>\n",
       "      <td>True</td>\n",
       "      <td>True</td>\n",
       "      <td>False</td>\n",
       "      <td>False</td>\n",
       "      <td>False</td>\n",
       "      <td>True</td>\n",
       "      <td>True</td>\n",
       "      <td>False</td>\n",
       "    </tr>\n",
       "    <tr>\n",
       "      <th>97</th>\n",
       "      <td>False</td>\n",
       "      <td>False</td>\n",
       "      <td>True</td>\n",
       "      <td>False</td>\n",
       "      <td>True</td>\n",
       "      <td>False</td>\n",
       "      <td>True</td>\n",
       "      <td>True</td>\n",
       "      <td>False</td>\n",
       "      <td>True</td>\n",
       "      <td>...</td>\n",
       "      <td>True</td>\n",
       "      <td>True</td>\n",
       "      <td>False</td>\n",
       "      <td>True</td>\n",
       "      <td>False</td>\n",
       "      <td>False</td>\n",
       "      <td>True</td>\n",
       "      <td>True</td>\n",
       "      <td>True</td>\n",
       "      <td>False</td>\n",
       "    </tr>\n",
       "    <tr>\n",
       "      <th>98</th>\n",
       "      <td>False</td>\n",
       "      <td>False</td>\n",
       "      <td>True</td>\n",
       "      <td>False</td>\n",
       "      <td>True</td>\n",
       "      <td>True</td>\n",
       "      <td>True</td>\n",
       "      <td>True</td>\n",
       "      <td>False</td>\n",
       "      <td>True</td>\n",
       "      <td>...</td>\n",
       "      <td>True</td>\n",
       "      <td>True</td>\n",
       "      <td>False</td>\n",
       "      <td>True</td>\n",
       "      <td>False</td>\n",
       "      <td>False</td>\n",
       "      <td>False</td>\n",
       "      <td>True</td>\n",
       "      <td>True</td>\n",
       "      <td>False</td>\n",
       "    </tr>\n",
       "    <tr>\n",
       "      <th>99</th>\n",
       "      <td>False</td>\n",
       "      <td>False</td>\n",
       "      <td>True</td>\n",
       "      <td>True</td>\n",
       "      <td>True</td>\n",
       "      <td>False</td>\n",
       "      <td>True</td>\n",
       "      <td>True</td>\n",
       "      <td>False</td>\n",
       "      <td>True</td>\n",
       "      <td>...</td>\n",
       "      <td>True</td>\n",
       "      <td>True</td>\n",
       "      <td>False</td>\n",
       "      <td>False</td>\n",
       "      <td>False</td>\n",
       "      <td>False</td>\n",
       "      <td>False</td>\n",
       "      <td>True</td>\n",
       "      <td>True</td>\n",
       "      <td>False</td>\n",
       "    </tr>\n",
       "  </tbody>\n",
       "</table>\n",
       "<p>100 rows × 10000 columns</p>\n",
       "</div>"
      ],
      "text/plain": [
       "    Trial 0  Trial 1  Trial 2  Trial 3  Trial 4  Trial 5  Trial 6  Trial 7  \\\n",
       "0     False    False     True    False     True    False     True     True   \n",
       "1     False     True     True    False     True    False     True     True   \n",
       "2     False    False     True    False     True    False     True     True   \n",
       "3     False     True     True     True     True    False     True     True   \n",
       "4     False    False     True    False     True     True     True     True   \n",
       "..      ...      ...      ...      ...      ...      ...      ...      ...   \n",
       "95    False     True     True    False     True    False     True     True   \n",
       "96    False    False     True    False     True     True     True     True   \n",
       "97    False    False     True    False     True    False     True     True   \n",
       "98    False    False     True    False     True     True     True     True   \n",
       "99    False    False     True     True     True    False     True     True   \n",
       "\n",
       "    Trial 8  Trial 9  ...  Trial 9990  Trial 9991  Trial 9992  Trial 9993  \\\n",
       "0     False     True  ...       False        True        True        True   \n",
       "1     False     True  ...       False        True       False        True   \n",
       "2     False     True  ...       False        True       False        True   \n",
       "3     False     True  ...       False        True       False       False   \n",
       "4     False     True  ...       False        True        True        True   \n",
       "..      ...      ...  ...         ...         ...         ...         ...   \n",
       "95    False     True  ...       False        True        True       False   \n",
       "96    False     True  ...       False        True        True        True   \n",
       "97    False     True  ...        True        True       False        True   \n",
       "98    False     True  ...        True        True       False        True   \n",
       "99    False     True  ...        True        True       False       False   \n",
       "\n",
       "    Trial 9994  Trial 9995  Trial 9996  Trial 9997  Trial 9998  Trial 9999  \n",
       "0        False        True        True        True        True       False  \n",
       "1         True       False       False        True        True        True  \n",
       "2        False        True       False        True        True        True  \n",
       "3        False       False        True        True        True       False  \n",
       "4        False       False       False        True        True        True  \n",
       "..         ...         ...         ...         ...         ...         ...  \n",
       "95       False       False        True        True        True       False  \n",
       "96       False       False       False        True        True       False  \n",
       "97       False       False        True        True        True       False  \n",
       "98       False       False       False        True        True       False  \n",
       "99       False       False       False        True        True       False  \n",
       "\n",
       "[100 rows x 10000 columns]"
      ]
     },
     "execution_count": 5,
     "metadata": {},
     "output_type": "execute_result"
    }
   ],
   "source": [
    "# We can view our data as a pandas dataframe. The rows are prisoners, the columns are trials. For example:\n",
    "sim.data['LoopSelect']"
   ]
  },
  {
   "cell_type": "code",
   "execution_count": 6,
   "metadata": {},
   "outputs": [
    {
     "data": {
      "text/plain": [
       "{'RandomSelect': 0, 'LoopSelect': 3087}"
      ]
     },
     "execution_count": 6,
     "metadata": {},
     "output_type": "execute_result"
    }
   ],
   "source": [
    "# There's a built-in stats function that tells us basic info, such as the number of successful trials (trials where every prisoner found their envelope and is marked True).\n",
    "sim.stats()['success']"
   ]
  },
  {
   "cell_type": "markdown",
   "metadata": {},
   "source": [
    "Okay, so for 100 trials the results roughly agree with our expectations: RandomSelect rarely succeeds, LoopSelect succeeds about half the time! Furhter, we can double-check that the LoopSelect successes correspond to those trials where the loop size was less than 50. First, naively:"
   ]
  },
  {
   "cell_type": "code",
   "execution_count": 7,
   "metadata": {},
   "outputs": [
    {
     "data": {
      "text/plain": [
       "100    2880\n",
       "50      206\n",
       "47      200\n",
       "49      196\n",
       "37      187\n",
       "41      184\n",
       "34      180\n",
       "46      177\n",
       "48      177\n",
       "40      176\n",
       "38      175\n",
       "45      175\n",
       "44      168\n",
       "42      168\n",
       "43      166\n",
       "39      157\n",
       "32      156\n",
       "23      151\n",
       "36      148\n",
       "27      144\n",
       "31      144\n",
       "33      142\n",
       "28      142\n",
       "18      140\n",
       "21      139\n",
       "30      139\n",
       "7       138\n",
       "29      136\n",
       "20      134\n",
       "24      130\n",
       "17      127\n",
       "35      127\n",
       "22      126\n",
       "25      121\n",
       "14      118\n",
       "19      116\n",
       "2       115\n",
       "26      114\n",
       "16      114\n",
       "10      113\n",
       "15      110\n",
       "0       109\n",
       "4       108\n",
       "5       108\n",
       "8       107\n",
       "13      106\n",
       "12      105\n",
       "11      103\n",
       "1       102\n",
       "9       100\n",
       "3        99\n",
       "6        97\n",
       "dtype: int64"
      ]
     },
     "execution_count": 7,
     "metadata": {},
     "output_type": "execute_result"
    }
   ],
   "source": [
    "(sim.extra['LoopSelect']['loop_size'] < 50).sum().value_counts()"
   ]
  },
  {
   "cell_type": "markdown",
   "metadata": {},
   "source": [
    "This tells us that 29 of our trials had a loop size less than 29 for all prisoners, which corresponds to the amount of successes indeed! The other trials had some subset of prisoners who had a loop size less than 50, but other prisoners were stuck in a bigger loop, so they couldn't succeed and the whole trial failed. Let's check the correspondence more directly."
   ]
  },
  {
   "cell_type": "code",
   "execution_count": 8,
   "metadata": {},
   "outputs": [
    {
     "data": {
      "text/plain": [
       "array([   2,    4,    6, ..., 9991, 9997, 9998])"
      ]
     },
     "execution_count": 8,
     "metadata": {},
     "output_type": "execute_result"
    }
   ],
   "source": [
    "import numpy as np\n",
    "loop_lt_50 = np.where((sim.extra['LoopSelect']['loop_size'] <= 50).sum() == 100)[0]\n",
    "loop_lt_50"
   ]
  },
  {
   "cell_type": "code",
   "execution_count": 9,
   "metadata": {},
   "outputs": [
    {
     "data": {
      "text/plain": [
       "array([   2,    4,    6, ..., 9991, 9997, 9998])"
      ]
     },
     "execution_count": 9,
     "metadata": {},
     "output_type": "execute_result"
    }
   ],
   "source": [
    "successful_trials = np.where(sim.data['LoopSelect'].sum() == 100)[0]\n",
    "successful_trials"
   ]
  },
  {
   "cell_type": "code",
   "execution_count": 10,
   "metadata": {},
   "outputs": [
    {
     "data": {
      "text/plain": [
       "array([ True,  True,  True, ...,  True,  True,  True])"
      ]
     },
     "execution_count": 10,
     "metadata": {},
     "output_type": "execute_result"
    }
   ],
   "source": [
    "loop_lt_50 == successful_trials"
   ]
  },
  {
   "cell_type": "markdown",
   "metadata": {},
   "source": [
    "We have thus proven that successful trials are those with a loop of size less than 50! Everything seems to be working out. Let's dive into the questions I posed earlier."
   ]
  },
  {
   "cell_type": "markdown",
   "metadata": {},
   "source": [
    "## II. Base Cases\n",
    "What are the results with only small numbers of prisoners? By our prediction in the introduction, we'd expect about a 25% chance of success if the prisoners choose randomly and a 50% chance of success if they use the loop method (as they will both either be correct or both be wrong).\n",
    "\n",
    "Let's run a few trials to see if that prediction is correct."
   ]
  },
  {
   "cell_type": "code",
   "execution_count": 11,
   "metadata": {},
   "outputs": [],
   "source": [
    "bc2_config = {'nPrisoners': 2,\n",
    "              'nTrials': 10000,\n",
    "              'algorithms': (RandomSelect, LoopSelect),\n",
    "              'schema': 'default',\n",
    "              'lower': True,\n",
    "              'chunks': 10,\n",
    "              }"
   ]
  },
  {
   "cell_type": "code",
   "execution_count": 12,
   "metadata": {},
   "outputs": [],
   "source": [
    "bc2_sim = Simulation(bc2_config)"
   ]
  },
  {
   "cell_type": "code",
   "execution_count": 13,
   "metadata": {},
   "outputs": [
    {
     "name": "stdout",
     "output_type": "stream",
     "text": [
      "Progress: Currently on trial 1000. This chunk took 2.1743791103363037 seconds to complete. Estimating 19.569381952285767 more seconds.\n",
      "Progress: Currently on trial 2000. This chunk took 2.2735955715179443 seconds to complete. Estimating 17.791767120361328 more seconds.\n",
      "Progress: Currently on trial 3000. This chunk took 2.478100299835205 seconds to complete. Estimating 16.457149863243103 more seconds.\n",
      "Progress: Currently on trial 4000. This chunk took 2.5711491107940674 seconds to complete. Estimating 14.766420722007751 more seconds.\n",
      "Progress: Currently on trial 5000. This chunk took 2.6222994327545166 seconds to complete. Estimating 12.70835354924202 more seconds.\n",
      "Progress: Currently on trial 6000. This chunk took 2.7975594997406006 seconds to complete. Estimating 10.678381264209747 more seconds.\n",
      "Progress: Currently on trial 7000. This chunk took 2.938586473464966 seconds to complete. Estimating 8.412227623164654 more seconds.\n",
      "Progress: Currently on trial 8000. This chunk took 3.0727436542510986 seconds to complete. Estimating 5.8767935410141945 more seconds.\n",
      "Progress: Currently on trial 9000. This chunk took 3.2514407634735107 seconds to complete. Estimating 3.0949032697826624 more seconds.\n",
      "Concluded: Finished trial 9999 and stored in .results! Took a total of 27.52644968032837\n"
     ]
    }
   ],
   "source": [
    "bc2_sim.simulate()"
   ]
  },
  {
   "cell_type": "markdown",
   "metadata": {},
   "source": [
    "**(Note for further optimization: for larger amounts of trials, the time for chunks to run seems to increase, though it should be roughly constant since a chunk represents a uniform amount of trials. This might be due to the way we're adding to our dataframe. A more numpythonic approach, getting rid of the Trial class and treating Trials as an array, would likely perform better. I may troubleshoot this further, but for my own personal purposes this is sufficient for now. A progress bar would also be a nice addition!)**\n",
    "\n",
    "This looks promising!"
   ]
  },
  {
   "cell_type": "code",
   "execution_count": 14,
   "metadata": {},
   "outputs": [
    {
     "data": {
      "text/plain": [
       "{'RandomSelect': 2536, 'LoopSelect': 4981}"
      ]
     },
     "execution_count": 14,
     "metadata": {},
     "output_type": "execute_result"
    }
   ],
   "source": [
    "bc2_sim.stats()['success']"
   ]
  },
  {
   "cell_type": "markdown",
   "metadata": {},
   "source": [
    "Now we can try the base case of 4, instead."
   ]
  },
  {
   "cell_type": "code",
   "execution_count": 15,
   "metadata": {},
   "outputs": [
    {
     "name": "stdout",
     "output_type": "stream",
     "text": [
      "Progress: Currently on trial 1000. This chunk took 2.205854892730713 seconds to complete. Estimating 19.852659702301025 more seconds.\n",
      "Progress: Currently on trial 2000. This chunk took 2.35707950592041 seconds to complete. Estimating 18.251619338989258 more seconds.\n",
      "Progress: Currently on trial 3000. This chunk took 2.4816572666168213 seconds to complete. Estimating 16.670787930488586 more seconds.\n",
      "Progress: Currently on trial 4000. This chunk took 2.5992350578308105 seconds to complete. Estimating 14.942248463630676 more seconds.\n",
      "Progress: Currently on trial 5000. This chunk took 2.7182815074920654 seconds to complete. Estimating 13.02157148718834 more seconds.\n",
      "Progress: Currently on trial 6000. This chunk took 2.8767266273498535 seconds to complete. Estimating 10.962017953395844 more seconds.\n",
      "Progress: Currently on trial 7000. This chunk took 3.061664342880249 seconds to complete. Estimating 8.70321211963892 more seconds.\n",
      "Progress: Currently on trial 8000. This chunk took 3.2431187629699707 seconds to complete. Estimating 6.1441618129611015 more seconds.\n",
      "Progress: Currently on trial 9000. This chunk took 3.3779618740081787 seconds to complete. Estimating 3.225006250664592 more seconds.\n",
      "Concluded: Finished trial 9999 and stored in .results! Took a total of 28.39343285560608\n"
     ]
    }
   ],
   "source": [
    "bc4_config = {'nPrisoners': 4,\n",
    "              'nTrials': 10000,\n",
    "              'algorithms': (RandomSelect, LoopSelect),\n",
    "              'schema': 'default',\n",
    "              'lower': True,\n",
    "              'chunks': 10,\n",
    "              }\n",
    "\n",
    "bc4_sim = Simulation(bc4_config)\n",
    "\n",
    "bc4_sim.simulate()"
   ]
  },
  {
   "cell_type": "code",
   "execution_count": 16,
   "metadata": {},
   "outputs": [
    {
     "data": {
      "text/plain": [
       "{'RandomSelect': 573, 'LoopSelect': 4175}"
      ]
     },
     "execution_count": 16,
     "metadata": {},
     "output_type": "execute_result"
    }
   ],
   "source": [
    "bc4_sim.stats()['success']"
   ]
  },
  {
   "cell_type": "markdown",
   "metadata": {},
   "source": [
    "Doing the math for random selection, we'd expect 0.5^4 = 0.0625 success rate, or 62.5 successful trials."
   ]
  },
  {
   "cell_type": "code",
   "execution_count": 17,
   "metadata": {},
   "outputs": [
    {
     "name": "stdout",
     "output_type": "stream",
     "text": [
      "Progress: Currently on trial 1000. This chunk took 2.1912894248962402 seconds to complete. Estimating 19.72156834602356 more seconds.\n",
      "Progress: Currently on trial 2000. This chunk took 2.311372756958008 seconds to complete. Estimating 18.01052951812744 more seconds.\n",
      "Progress: Currently on trial 3000. This chunk took 2.4966564178466797 seconds to complete. Estimating 16.617808997631073 more seconds.\n",
      "Progress: Currently on trial 4000. This chunk took 2.6089394092559814 seconds to complete. Estimating 14.948658406734467 more seconds.\n",
      "Progress: Currently on trial 5000. This chunk took 2.733456611633301 seconds to complete. Estimating 13.062177672982216 more seconds.\n",
      "Progress: Currently on trial 6000. This chunk took 2.8177762031555176 seconds to complete. Estimating 10.860362440347672 more seconds.\n",
      "Progress: Currently on trial 7000. This chunk took 2.9825422763824463 seconds to complete. Estimating 8.54640569910407 more seconds.\n",
      "Progress: Currently on trial 8000. This chunk took 3.1116538047790527 seconds to complete. Estimating 5.9604294784367085 more seconds.\n",
      "Progress: Currently on trial 9000. This chunk took 3.389512538909912 seconds to complete. Estimating 3.18484849948436 more seconds.\n",
      "Concluded: Finished trial 9999 and stored in .results! Took a total of 28.15332341194153\n"
     ]
    }
   ],
   "source": [
    "bc3_lower_config = {'nPrisoners': 3,\n",
    "              'nTrials': 10000,\n",
    "              'algorithms': (RandomSelect, LoopSelect),\n",
    "              'schema': 'default',\n",
    "              'lower': True,\n",
    "              'chunks': 10,\n",
    "              }\n",
    "\n",
    "bc3_lower_sim = Simulation(bc3_lower_config)\n",
    "\n",
    "bc3_lower_sim.simulate()"
   ]
  },
  {
   "cell_type": "code",
   "execution_count": 18,
   "metadata": {},
   "outputs": [
    {
     "name": "stdout",
     "output_type": "stream",
     "text": [
      "Progress: Currently on trial 1000. This chunk took 2.1820006370544434 seconds to complete. Estimating 19.637979984283447 more seconds.\n",
      "Progress: Currently on trial 2000. This chunk took 2.348879337310791 seconds to complete. Estimating 18.12339210510254 more seconds.\n",
      "Progress: Currently on trial 3000. This chunk took 2.4527995586395264 seconds to complete. Estimating 16.513691544532776 more seconds.\n",
      "Progress: Currently on trial 4000. This chunk took 2.6151275634765625 seconds to complete. Estimating 14.922600388526917 more seconds.\n",
      "Progress: Currently on trial 5000. This chunk took 2.787257671356201 seconds to complete. Estimating 13.185801953077316 more seconds.\n",
      "Progress: Currently on trial 6000. This chunk took 2.879847764968872 seconds to complete. Estimating 11.033964335918427 more seconds.\n",
      "Progress: Currently on trial 7000. This chunk took 3.042714834213257 seconds to complete. Estimating 8.70176524668932 more seconds.\n",
      "Progress: Currently on trial 8000. This chunk took 3.140657424926758 seconds to complete. Estimating 6.041219852864742 more seconds.\n",
      "Progress: Currently on trial 9000. This chunk took 3.2956736087799072 seconds to complete. Estimating 3.158125316724181 more seconds.\n",
      "Concluded: Finished trial 9999 and stored in .results! Took a total of 28.640945434570312\n"
     ]
    }
   ],
   "source": [
    "bc3_raise_config = {'nPrisoners': 3,\n",
    "              'nTrials': 10000,\n",
    "              'algorithms': (RandomSelect, LoopSelect),\n",
    "              'schema': 'default',\n",
    "              'lower': False,\n",
    "              'chunks': 10,\n",
    "              }\n",
    "\n",
    "bc3_raise_sim = Simulation(bc3_raise_config)\n",
    "\n",
    "bc3_raise_sim.simulate()"
   ]
  },
  {
   "cell_type": "code",
   "execution_count": 19,
   "metadata": {},
   "outputs": [
    {
     "name": "stdout",
     "output_type": "stream",
     "text": [
      "lower: {'RandomSelect': 372, 'LoopSelect': 1620}\n",
      "raise: {'RandomSelect': 2693, 'LoopSelect': 6665}\n"
     ]
    }
   ],
   "source": [
    "print('lower:', bc3_lower_sim.stats()['success'])\n",
    "print('raise:', bc3_raise_sim.stats()['success'])"
   ]
  },
  {
   "cell_type": "markdown",
   "metadata": {},
   "source": [
    "How about the odd cases? The stricter condition on our experiment is that we lower the number of attempts to the nearest integer. For 3 prisoners, they each get 1 attempt. We could also loosen the problem by giving them an extra attempt, so 3 prisoners get 2. How much does this impact the results? As far as the random algorithm works, lowering in this case should give us (33%)^3 = 3.6% and raising should give (66%)^3 = 28.7%. A wide discrepency! Of course, we'd expect the discrepency to decease with higher numbers of prisoners. Let's see!"
   ]
  },
  {
   "cell_type": "code",
   "execution_count": 20,
   "metadata": {},
   "outputs": [
    {
     "name": "stdout",
     "output_type": "stream",
     "text": [
      "Progress: Currently on trial 1000. This chunk took 2.5214054584503174 seconds to complete. Estimating 22.69261908531189 more seconds.\n",
      "Progress: Currently on trial 2000. This chunk took 2.6316001415252686 seconds to complete. Estimating 20.61190414428711 more seconds.\n",
      "Progress: Currently on trial 3000. This chunk took 2.7036633491516113 seconds to complete. Estimating 18.480398774147034 more seconds.\n",
      "Progress: Currently on trial 4000. This chunk took 3.172229528427124 seconds to complete. Estimating 17.436776518821716 more seconds.\n",
      "Progress: Currently on trial 5000. This chunk took 3.7783329486846924 seconds to complete. Estimating 16.71107605099678 more seconds.\n",
      "Progress: Currently on trial 6000. This chunk took 3.2370927333831787 seconds to complete. Estimating 13.158558189868927 more seconds.\n",
      "Progress: Currently on trial 7000. This chunk took 3.3218212127685547 seconds to complete. Estimating 9.917150013148785 more seconds.\n",
      "Progress: Currently on trial 8000. This chunk took 3.4300408363342285 seconds to complete. Estimating 6.735727943480015 more seconds.\n",
      "Progress: Currently on trial 9000. This chunk took 3.6355600357055664 seconds to complete. Estimating 3.5016980562359095 more seconds.\n",
      "Concluded: Finished trial 9999 and stored in .results! Took a total of 32.22591757774353\n"
     ]
    }
   ],
   "source": [
    "bc100_raise_config = {'nPrisoners': 9,\n",
    "              'nTrials': 10000,\n",
    "              'algorithms': (RandomSelect, LoopSelect),\n",
    "              'schema': 'default',\n",
    "              'lower': False,\n",
    "              'chunks': 10,\n",
    "              }\n",
    "\n",
    "bc100_raise_sim = Simulation(bc100_raise_config)\n",
    "\n",
    "bc100_raise_sim.simulate()"
   ]
  },
  {
   "cell_type": "code",
   "execution_count": 21,
   "metadata": {},
   "outputs": [
    {
     "name": "stdout",
     "output_type": "stream",
     "text": [
      "Progress: Currently on trial 1000. This chunk took 2.3891842365264893 seconds to complete. Estimating 21.5026216506958 more seconds.\n",
      "Progress: Currently on trial 2000. This chunk took 2.5354928970336914 seconds to complete. Estimating 19.698589324951172 more seconds.\n",
      "Progress: Currently on trial 3000. This chunk took 2.645392417907715 seconds to complete. Estimating 17.87691032886505 more seconds.\n",
      "Progress: Currently on trial 4000. This chunk took 2.8466482162475586 seconds to complete. Estimating 16.201393246650696 more seconds.\n",
      "Progress: Currently on trial 5000. This chunk took 3.012799024581909 seconds to complete. Estimating 14.282510727643967 more seconds.\n",
      "Progress: Currently on trial 6000. This chunk took 3.222728967666626 seconds to complete. Estimating 12.158406436443329 more seconds.\n",
      "Progress: Currently on trial 7000. This chunk took 3.351308584213257 seconds to complete. Estimating 9.586322374641895 more seconds.\n",
      "Progress: Currently on trial 8000. This chunk took 3.5237317085266113 seconds to complete. Estimating 6.71914317458868 more seconds.\n",
      "Progress: Currently on trial 9000. This chunk took 3.703097105026245 seconds to complete. Estimating 3.5313198026269674 more seconds.\n",
      "Concluded: Finished trial 9999 and stored in .results! Took a total of 31.127516984939575\n"
     ]
    }
   ],
   "source": [
    "bc100_lower_config = {'nPrisoners': 9,\n",
    "              'nTrials': 10000,\n",
    "              'algorithms': (RandomSelect, LoopSelect),\n",
    "              'schema': 'default',\n",
    "              'lower': True,\n",
    "              'chunks': 10,\n",
    "              }\n",
    "\n",
    "bc100_lower_sim = Simulation(bc100_raise_config)\n",
    "\n",
    "bc100_lower_sim.simulate()"
   ]
  },
  {
   "cell_type": "code",
   "execution_count": 22,
   "metadata": {},
   "outputs": [
    {
     "name": "stdout",
     "output_type": "stream",
     "text": [
      "lower: {'RandomSelect': 36, 'LoopSelect': 4502}\n",
      "raise: {'RandomSelect': 40, 'LoopSelect': 4537}\n"
     ]
    }
   ],
   "source": [
    "print('lower:', bc100_lower_sim.stats()['success'])\n",
    "print('raise:', bc100_raise_sim.stats()['success'])"
   ]
  },
  {
   "cell_type": "markdown",
   "metadata": {},
   "source": [
    "So it has indeed closed up significantly! Note that going above 10 prisoners will get virtually no successses in the random selection (unless you go to an extremely high amount of trials)."
   ]
  },
  {
   "cell_type": "markdown",
   "metadata": {},
   "source": [
    "## III. Disentangling Envelopes\n",
    "\n",
    "Part of the constraints of the prisoner problem is that the number of envelopes is equal to the number of prisoners. What if it wasn't? That is, what if we could have 200 envelopes for 100 prisoners? The envelopes would still have the first hundred indices of the prisoners, but there would be extra indices that correspond to no prisoner. Nominally, for the (even) random selection algorithm, this should drop each success chance to 25%. What about for the loop selection?"
   ]
  },
  {
   "cell_type": "code",
   "execution_count": 23,
   "metadata": {},
   "outputs": [
    {
     "name": "stdout",
     "output_type": "stream",
     "text": [
      "Progress: Currently on trial 1000. This chunk took 2.1988470554351807 seconds to complete. Estimating 19.789591312408447 more seconds.\n",
      "Progress: Currently on trial 2000. This chunk took 2.3513565063476562 seconds to complete. Estimating 18.200695991516113 more seconds.\n",
      "Progress: Currently on trial 3000. This chunk took 2.5014443397521973 seconds to complete. Estimating 16.717760384082794 more seconds.\n",
      "Progress: Currently on trial 4000. This chunk took 2.6957709789276123 seconds to complete. Estimating 15.251987278461456 more seconds.\n",
      "Progress: Currently on trial 5000. This chunk took 2.7574923038482666 seconds to complete. Estimating 13.248659893870354 more seconds.\n",
      "Progress: Currently on trial 6000. This chunk took 2.8976688385009766 seconds to complete. Estimating 11.094748228788376 more seconds.\n",
      "Progress: Currently on trial 7000. This chunk took 3.0132999420166016 seconds to complete. Estimating 8.680440086871386 more seconds.\n",
      "Progress: Currently on trial 8000. This chunk took 3.162135601043701 seconds to complete. Estimating 6.0555870197713375 more seconds.\n",
      "Progress: Currently on trial 9000. This chunk took 3.2906196117401123 seconds to complete. Estimating 3.1591924941167235 more seconds.\n",
      "Concluded: Finished trial 9999 and stored in .results! Took a total of 28.26915454864502\n"
     ]
    }
   ],
   "source": [
    "de24_config = {'nPrisoners': 2,\n",
    "              'nTrials': 10000,\n",
    "              'algorithms': (RandomSelect, LoopSelect),\n",
    "              'schema': 'default',\n",
    "              'lower': True,\n",
    "              'chunks': 10,\n",
    "              'nEnvelopes': 4\n",
    "              }\n",
    "\n",
    "de24_sim = Simulation(de24_config)\n",
    "\n",
    "de24_sim.simulate()"
   ]
  },
  {
   "cell_type": "code",
   "execution_count": 24,
   "metadata": {},
   "outputs": [
    {
     "data": {
      "text/plain": [
       "{'RandomSelect': 2381, 'LoopSelect': 4122}"
      ]
     },
     "execution_count": 24,
     "metadata": {},
     "output_type": "execute_result"
    }
   ],
   "source": [
    "de24_sim.stats()['success']"
   ]
  },
  {
   "cell_type": "markdown",
   "metadata": {},
   "source": [
    "Recall the earlier result."
   ]
  },
  {
   "cell_type": "code",
   "execution_count": 25,
   "metadata": {},
   "outputs": [
    {
     "data": {
      "text/plain": [
       "{'RandomSelect': 2536, 'LoopSelect': 4981}"
      ]
     },
     "execution_count": 25,
     "metadata": {},
     "output_type": "execute_result"
    }
   ],
   "source": [
    "bc2_sim.stats()['success']"
   ]
  },
  {
   "cell_type": "markdown",
   "metadata": {},
   "source": [
    "The discrepency in the number of envelopes seems to lower the probability of success for the loop selection. Interesting! What if we crank up the number of envelopes?"
   ]
  },
  {
   "cell_type": "code",
   "execution_count": 26,
   "metadata": {},
   "outputs": [
    {
     "name": "stdout",
     "output_type": "stream",
     "text": [
      "Progress: Currently on trial 1000. This chunk took 2.263608455657959 seconds to complete. Estimating 20.372435331344604 more seconds.\n",
      "Progress: Currently on trial 2000. This chunk took 2.4138259887695312 seconds to complete. Estimating 18.709616661071777 more seconds.\n",
      "Progress: Currently on trial 3000. This chunk took 2.5639305114746094 seconds to complete. Estimating 17.15911477804184 more seconds.\n",
      "Progress: Currently on trial 4000. This chunk took 2.680448293685913 seconds to complete. Estimating 15.395173251628876 more seconds.\n",
      "Progress: Currently on trial 5000. This chunk took 2.813387393951416 seconds to complete. Estimating 13.448057845234871 more seconds.\n",
      "Progress: Currently on trial 6000. This chunk took 2.9643454551696777 seconds to complete. Estimating 11.307857781648636 more seconds.\n",
      "Progress: Currently on trial 7000. This chunk took 3.151966094970703 seconds to complete. Estimating 8.968345385044813 more seconds.\n",
      "Progress: Currently on trial 8000. This chunk took 3.2040789127349854 seconds to complete. Estimating 6.19350067153573 more seconds.\n",
      "Progress: Currently on trial 9000. This chunk took 3.3954217433929443 seconds to complete. Estimating 3.2460730457678437 more seconds.\n",
      "Concluded: Finished trial 9999 and stored in .results! Took a total of 29.04420757293701\n"
     ]
    }
   ],
   "source": [
    "de232_config = {'nPrisoners': 2,\n",
    "              'nTrials': 10000,\n",
    "              'algorithms': (RandomSelect, LoopSelect),\n",
    "              'schema': 'default',\n",
    "              'lower': True,\n",
    "              'chunks': 10,\n",
    "              'nEnvelopes': 32\n",
    "              }\n",
    "\n",
    "de232_sim = Simulation(de232_config)\n",
    "\n",
    "de232_sim.simulate()"
   ]
  },
  {
   "cell_type": "code",
   "execution_count": 27,
   "metadata": {},
   "outputs": [
    {
     "data": {
      "text/plain": [
       "{'RandomSelect': 2355, 'LoopSelect': 3855}"
      ]
     },
     "execution_count": 27,
     "metadata": {},
     "output_type": "execute_result"
    }
   ],
   "source": [
    "de232_sim.stats()['success']"
   ]
  },
  {
   "cell_type": "markdown",
   "metadata": {},
   "source": [
    "Can we make random select more successful?"
   ]
  },
  {
   "cell_type": "code",
   "execution_count": 28,
   "metadata": {},
   "outputs": [
    {
     "name": "stdout",
     "output_type": "stream",
     "text": [
      "Progress: Currently on trial 1000. This chunk took 40.386916399002075 seconds to complete. Estimating 363.4822111129761 more seconds.\n",
      "Progress: Currently on trial 2000. This chunk took 41.3705849647522 seconds to complete. Estimating 327.02986907958984 more seconds.\n",
      "Progress: Currently on trial 3000. This chunk took 40.91786575317383 seconds to complete. Estimating 286.2880027294159 more seconds.\n",
      "Progress: Currently on trial 4000. This chunk took 41.49070119857788 seconds to complete. Estimating 247.1668782234192 more seconds.\n",
      "Progress: Currently on trial 5000. This chunk took 41.998693227767944 seconds to complete. Estimating 207.98286139965057 more seconds.\n",
      "Progress: Currently on trial 6000. This chunk took 41.562302112579346 seconds to complete. Estimating 166.31769347190857 more seconds.\n",
      "Progress: Currently on trial 7000. This chunk took 42.175464391708374 seconds to complete. Estimating 125.63228836655617 more seconds.\n",
      "Progress: Currently on trial 8000. This chunk took 42.56852746009827 seconds to complete. Estimating 84.44592544436455 more seconds.\n",
      "Progress: Currently on trial 9000. This chunk took 42.50669622421265 seconds to complete. Estimating 42.36481564491987 more seconds.\n",
      "Concluded: Finished trial 9999 and stored in .results! Took a total of 417.601443529129\n"
     ]
    }
   ],
   "source": [
    "de28192_config = {'nPrisoners': 2,\n",
    "              'nTrials': 10000,\n",
    "              'algorithms': (RandomSelect, LoopSelect),\n",
    "              'schema': 'default',\n",
    "              'lower': True,\n",
    "              'chunks': 10,\n",
    "              'nEnvelopes': 8192\n",
    "              }\n",
    "\n",
    "de28192_sim = Simulation(de28192_config)\n",
    "\n",
    "de28192_sim.simulate()"
   ]
  },
  {
   "cell_type": "markdown",
   "metadata": {},
   "source": [
    "**(Note for further optimization: more envelopes does not seem to impede performance, so this part works fine!)**"
   ]
  },
  {
   "cell_type": "code",
   "execution_count": 29,
   "metadata": {},
   "outputs": [
    {
     "data": {
      "text/plain": [
       "{'RandomSelect': 2362, 'LoopSelect': 3721}"
      ]
     },
     "execution_count": 29,
     "metadata": {},
     "output_type": "execute_result"
    }
   ],
   "source": [
    "de28192_sim.stats()['success']"
   ]
  },
  {
   "cell_type": "markdown",
   "metadata": {},
   "source": [
    "So the loop selection seems to converge asymptotically as envelopes increase, and it's always better! What about for the base case of 3, with both raising and lowering?"
   ]
  },
  {
   "cell_type": "code",
   "execution_count": 30,
   "metadata": {},
   "outputs": [
    {
     "name": "stdout",
     "output_type": "stream",
     "text": [
      "Progress: Currently on trial 1000. This chunk took 44.781084299087524 seconds to complete. Estimating 403.02972435951233 more seconds.\n",
      "Progress: Currently on trial 2000. This chunk took 45.26901459693909 seconds to complete. Estimating 360.20025634765625 more seconds.\n",
      "Progress: Currently on trial 3000. This chunk took 45.8918354511261 seconds to complete. Estimating 318.20893609523773 more seconds.\n",
      "Progress: Currently on trial 4000. This chunk took 45.50319027900696 seconds to complete. Estimating 272.88474118709564 more seconds.\n",
      "Progress: Currently on trial 5000. This chunk took 46.066744565963745 seconds to complete. Estimating 228.86870458722115 more seconds.\n",
      "Progress: Currently on trial 6000. This chunk took 45.93828105926514 seconds to complete. Estimating 183.42398768663406 more seconds.\n",
      "Progress: Currently on trial 7000. This chunk took 46.0289032459259 seconds to complete. Estimating 137.82730769366026 more seconds.\n",
      "Progress: Currently on trial 8000. This chunk took 47.15021347999573 seconds to complete. Estimating 93.0926126614213 more seconds.\n",
      "Progress: Currently on trial 9000. This chunk took 46.60566830635071 seconds to complete. Estimating 46.57597301341593 more seconds.\n",
      "Concluded: Finished trial 9999 and stored in .results! Took a total of 460.23206186294556\n"
     ]
    }
   ],
   "source": [
    "de36561_lower_config = {'nPrisoners': 3,\n",
    "              'nTrials': 10000,\n",
    "              'algorithms': (RandomSelect, LoopSelect),\n",
    "              'schema': 'default',\n",
    "              'lower': True,\n",
    "              'chunks': 10,\n",
    "              'nEnvelopes': 6561\n",
    "              }\n",
    "\n",
    "de36561_lower_sim = Simulation(de36561_lower_config)\n",
    "\n",
    "de36561_lower_sim.simulate()"
   ]
  },
  {
   "cell_type": "code",
   "execution_count": 31,
   "metadata": {},
   "outputs": [
    {
     "name": "stdout",
     "output_type": "stream",
     "text": [
      "Progress: Currently on trial 1000. This chunk took 46.050514221191406 seconds to complete. Estimating 414.4546022415161 more seconds.\n",
      "Progress: Currently on trial 2000. This chunk took 45.79687738418579 seconds to complete. Estimating 367.3894453048706 more seconds.\n",
      "Progress: Currently on trial 3000. This chunk took 45.43332886695862 seconds to complete. Estimating 319.7494348883629 more seconds.\n",
      "Progress: Currently on trial 4000. This chunk took 46.05675220489502 seconds to complete. Estimating 275.20564502477646 more seconds.\n",
      "Progress: Currently on trial 5000. This chunk took 46.53906440734863 seconds to complete. Estimating 231.01660646498203 more seconds.\n",
      "Progress: Currently on trial 6000. This chunk took 46.6788854598999 seconds to complete. Estimating 185.76435819268227 more seconds.\n",
      "Progress: Currently on trial 7000. This chunk took 46.987061738967896 seconds to complete. Estimating 140.14217865094543 more seconds.\n",
      "Progress: Currently on trial 8000. This chunk took 46.536139249801636 seconds to complete. Estimating 93.25017090514302 more seconds.\n",
      "Progress: Currently on trial 9000. This chunk took 48.56119751930237 seconds to complete. Estimating 47.59312730003148 more seconds.\n",
      "Concluded: Finished trial 9999 and stored in .results! Took a total of 466.180819272995\n"
     ]
    }
   ],
   "source": [
    "de36561_raise_config = {'nPrisoners': 3,\n",
    "              'nTrials': 10000,\n",
    "              'algorithms': (RandomSelect, LoopSelect),\n",
    "              'schema': 'default',\n",
    "              'lower': False,\n",
    "              'chunks': 10,\n",
    "              'nEnvelopes': 6561\n",
    "              }\n",
    "\n",
    "de36561_raise_sim = Simulation(de36561_raise_config)\n",
    "\n",
    "de36561_raise_sim.simulate()"
   ]
  },
  {
   "cell_type": "code",
   "execution_count": 32,
   "metadata": {},
   "outputs": [
    {
     "name": "stdout",
     "output_type": "stream",
     "text": [
      "lower: {'RandomSelect': 1129, 'LoopSelect': 3317}\n",
      "raise: {'RandomSelect': 1209, 'LoopSelect': 3336}\n"
     ]
    }
   ],
   "source": [
    "print('lower:', de36561_lower_sim.stats()['success'])\n",
    "print('raise:', de36561_raise_sim.stats()['success'])"
   ]
  },
  {
   "cell_type": "markdown",
   "metadata": {},
   "source": [
    "Still better! It seems the loop selection is a definitively better algorithm, even in the context of the loose odd experiment. Perhaps the one exception is for the case of 1 prisoner with 2 envelopes, in which case we'd expect the probability to be equivalent."
   ]
  },
  {
   "cell_type": "code",
   "execution_count": 33,
   "metadata": {},
   "outputs": [
    {
     "name": "stdout",
     "output_type": "stream",
     "text": [
      "Progress: Currently on trial 1000. This chunk took 2.1832973957061768 seconds to complete. Estimating 19.6496422290802 more seconds.\n",
      "Progress: Currently on trial 2000. This chunk took 2.4022979736328125 seconds to complete. Estimating 18.342251777648926 more seconds.\n",
      "Progress: Currently on trial 3000. This chunk took 2.4405391216278076 seconds to complete. Estimating 16.566530287265778 more seconds.\n",
      "Progress: Currently on trial 4000. This chunk took 2.464020013809204 seconds to complete. Estimating 14.491922914981842 more seconds.\n",
      "Progress: Currently on trial 5000. This chunk took 2.596179246902466 seconds to complete. Estimating 12.528682574629784 more seconds.\n",
      "Progress: Currently on trial 6000. This chunk took 2.8371520042419434 seconds to complete. Estimating 10.685724586248398 more seconds.\n",
      "Progress: Currently on trial 7000. This chunk took 2.796790361404419 seconds to complete. Estimating 8.202293638139963 more seconds.\n",
      "Progress: Currently on trial 8000. This chunk took 2.923099994659424 seconds to complete. Estimating 5.6571673564612865 more seconds.\n",
      "Progress: Currently on trial 9000. This chunk took 3.0003464221954346 seconds to complete. Estimating 2.9144495530053973 more seconds.\n",
      "Concluded: Finished trial 9999 and stored in .results! Took a total of 26.773415327072144\n"
     ]
    }
   ],
   "source": [
    "de12_config = {'nPrisoners': 1,\n",
    "              'nTrials': 10000,\n",
    "              'algorithms': (RandomSelect, LoopSelect),\n",
    "              'schema': 'default',\n",
    "              'lower': False,\n",
    "              'chunks': 10,\n",
    "              'nEnvelopes': 2\n",
    "              }\n",
    "\n",
    "de12_sim = Simulation(de12_config)\n",
    "\n",
    "de12_sim.simulate()"
   ]
  },
  {
   "cell_type": "code",
   "execution_count": 34,
   "metadata": {},
   "outputs": [
    {
     "data": {
      "text/plain": [
       "{'RandomSelect': 5103, 'LoopSelect': 4986}"
      ]
     },
     "execution_count": 34,
     "metadata": {},
     "output_type": "execute_result"
    }
   ],
   "source": [
    "de12_sim.stats()['success']"
   ]
  },
  {
   "cell_type": "markdown",
   "metadata": {},
   "source": [
    "# IV. Different Schemas for Number of Attempts\n",
    "This section is a work in progress, but if you want to experiment for yourself, the 'modified' schema along with a numerial parameter will give the prisoners a number of attempts equivalent to nEnvelopes/parameter instead of half the envelopes. A parameter of 2 returns default behavior."
   ]
  },
  {
   "cell_type": "code",
   "execution_count": 35,
   "metadata": {},
   "outputs": [
    {
     "name": "stdout",
     "output_type": "stream",
     "text": [
      "Progress: Currently on trial 1000. This chunk took 18.61385464668274 seconds to complete. Estimating 167.52467036247253 more seconds.\n",
      "Progress: Currently on trial 2000. This chunk took 18.975748538970947 seconds to complete. Estimating 150.35828590393066 more seconds.\n",
      "Progress: Currently on trial 3000. This chunk took 19.437804460525513 seconds to complete. Estimating 133.81396639347076 more seconds.\n",
      "Progress: Currently on trial 4000. This chunk took 20.249434232711792 seconds to complete. Estimating 118.09705746173859 more seconds.\n",
      "Progress: Currently on trial 5000. This chunk took 20.232482433319092 seconds to complete. Estimating 99.7882430255413 more seconds.\n",
      "Progress: Currently on trial 6000. This chunk took 20.879459857940674 seconds to complete. Estimating 81.67415350675583 more seconds.\n",
      "Progress: Currently on trial 7000. This chunk took 21.443773984909058 seconds to complete. Estimating 62.79342455416918 more seconds.\n",
      "Progress: Currently on trial 8000. This chunk took 21.97543954849243 seconds to complete. Estimating 42.90655245631933 more seconds.\n",
      "Progress: Currently on trial 9000. This chunk took 23.32474994659424 seconds to complete. Estimating 22.388997232541442 more seconds.\n",
      "Concluded: Finished trial 9999 and stored in .results! Took a total of 213.6833062171936\n"
     ]
    }
   ],
   "source": [
    "mod_config = {'nPrisoners': 100,\n",
    "              'nTrials': 10000,\n",
    "              'algorithms': (RandomSelect, LoopSelect),\n",
    "              'lower': False,\n",
    "              'chunks': 10,\n",
    "              'schema': 'modified',\n",
    "              'param': 2\n",
    "              }\n",
    "\n",
    "mod_sim = Simulation(mod_config)\n",
    "\n",
    "mod_sim.simulate()"
   ]
  },
  {
   "cell_type": "code",
   "execution_count": 36,
   "metadata": {},
   "outputs": [
    {
     "data": {
      "text/plain": [
       "({'RandomSelect': 0, 'LoopSelect': 3033},\n",
       " {'RandomSelect': 0, 'LoopSelect': 3087})"
      ]
     },
     "execution_count": 36,
     "metadata": {},
     "output_type": "execute_result"
    }
   ],
   "source": [
    "mod_sim.stats()['success'], sim.stats()['success']"
   ]
  }
 ],
 "metadata": {
  "kernelspec": {
   "display_name": "Python 3",
   "language": "python",
   "name": "python3"
  },
  "language_info": {
   "codemirror_mode": {
    "name": "ipython",
    "version": 3
   },
   "file_extension": ".py",
   "mimetype": "text/x-python",
   "name": "python",
   "nbconvert_exporter": "python",
   "pygments_lexer": "ipython3",
   "version": "3.8.2"
  }
 },
 "nbformat": 4,
 "nbformat_minor": 5
}
